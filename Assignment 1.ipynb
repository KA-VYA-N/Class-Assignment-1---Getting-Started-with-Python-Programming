{
 "cells": [
  {
   "cell_type": "markdown",
   "metadata": {},
   "source": [
    "Question 2"
   ]
  },
  {
   "cell_type": "code",
   "execution_count": 1,
   "metadata": {},
   "outputs": [
    {
     "name": "stdout",
     "output_type": "stream",
     "text": [
      "Kavya\n",
      "Kasargod,Kerala,India\n",
      "111111111\n"
     ]
    }
   ],
   "source": [
    "#to display name,address and telephone number\n",
    "name = \"Kavya\"\n",
    "address = \"Kasargod,Kerala,India\"\n",
    "number = \"111111111\"\n",
    "print(name)\n",
    "print(address)\n",
    "print(number)"
   ]
  },
  {
   "cell_type": "markdown",
   "metadata": {},
   "source": [
    "Question 3"
   ]
  },
  {
   "cell_type": "code",
   "execution_count": 3,
   "metadata": {},
   "outputs": [
    {
     "name": "stdout",
     "output_type": "stream",
     "text": [
      "Your name is Kavya N\n"
     ]
    }
   ],
   "source": [
    "print(\"Your name is\",name)\n",
    "name = \"Kavya N\""
   ]
  },
  {
   "cell_type": "markdown",
   "metadata": {},
   "source": [
    "Question 4"
   ]
  },
  {
   "cell_type": "code",
   "execution_count": 4,
   "metadata": {},
   "outputs": [
    {
     "name": "stdout",
     "output_type": "stream",
     "text": [
      "Enter the width:4\n",
      "Enter the height:5\n",
      "The area is 20 square units\n"
     ]
    }
   ],
   "source": [
    "#to compute the area of a rectangle\n",
    "width=int(input(\"Enter the width:\"))\n",
    "height=int(input(\"Enter the height:\"))\n",
    "area=width*height\n",
    "print(\"The area is\", area, \"square units\")"
   ]
  },
  {
   "cell_type": "markdown",
   "metadata": {},
   "source": [
    "Question 5"
   ]
  },
  {
   "cell_type": "code",
   "execution_count": 5,
   "metadata": {},
   "outputs": [
    {
     "name": "stdout",
     "output_type": "stream",
     "text": [
      "Enter the width:4\n",
      "Enter the height:8\n",
      "The area is 16.0 square units\n"
     ]
    }
   ],
   "source": [
    "#to compute the area of a triangle\n",
    "base = int(input(\"Enter the width:\"))\n",
    "height = int(input(\"Enter the height:\"))\n",
    "area = .5*base*height\n",
    "print(\"The area is\", area, \"square units\")"
   ]
  },
  {
   "cell_type": "markdown",
   "metadata": {},
   "source": [
    "Question 6"
   ]
  },
  {
   "cell_type": "code",
   "execution_count": 6,
   "metadata": {},
   "outputs": [
    {
     "name": "stdout",
     "output_type": "stream",
     "text": [
      "Enter the radius:5\n",
      "The area is 78.5 square units\n"
     ]
    }
   ],
   "source": [
    "#to compute the area of a circle\n",
    "radius = int(input(\"Enter the radius:\"))\n",
    "area = 3.14*radius**2\n",
    "print(\"The area is\", area, \"square units\")"
   ]
  },
  {
   "cell_type": "markdown",
   "metadata": {},
   "source": [
    "Question 7"
   ]
  },
  {
   "cell_type": "code",
   "execution_count": 9,
   "metadata": {},
   "outputs": [
    {
     "name": "stdout",
     "output_type": "stream",
     "text": [
      "Enter your name KAVYA\n",
      "Enter your age 19\n",
      "My name is KAVYA and I am 19 years old.\n"
     ]
    }
   ],
   "source": [
    "#to print name and age using the input from user\n",
    "name = input(\"Enter your name \")\n",
    "age = input(\"Enter your age \")\n",
    "print(\"My name is \" +name + \" and I am \" +age +\" years old.\")"
   ]
  },
  {
   "cell_type": "markdown",
   "metadata": {},
   "source": [
    "Question 8"
   ]
  },
  {
   "cell_type": "code",
   "execution_count": 10,
   "metadata": {},
   "outputs": [
    {
     "name": "stdout",
     "output_type": "stream",
     "text": [
      "Enter a number 9\n",
      "10\n"
     ]
    }
   ],
   "source": [
    "#accepting a number from user and adding 1 to it\n",
    "a = int(input(\"Enter a number \"))\n",
    "a=a+1\n",
    "print(a)"
   ]
  },
  {
   "cell_type": "markdown",
   "metadata": {},
   "source": [
    "Question 9"
   ]
  },
  {
   "cell_type": "code",
   "execution_count": 11,
   "metadata": {},
   "outputs": [
    {
     "name": "stdout",
     "output_type": "stream",
     "text": [
      "Enter your first name : Kavya\n"
     ]
    },
    {
     "data": {
      "text/plain": [
       "'Kavya'"
      ]
     },
     "execution_count": 11,
     "metadata": {},
     "output_type": "execute_result"
    }
   ],
   "source": [
    "input(\"Enter your first name : \")"
   ]
  },
  {
   "cell_type": "code",
   "execution_count": 12,
   "metadata": {},
   "outputs": [
    {
     "name": "stdout",
     "output_type": "stream",
     "text": [
      "Enter your first name : Kavya\n",
      "Kavya\n"
     ]
    }
   ],
   "source": [
    "name = input(\"Enter your first name : \")\n",
    "print(name)"
   ]
  }
 ],
 "metadata": {
  "kernelspec": {
   "display_name": "Python 3",
   "language": "python",
   "name": "python3"
  },
  "language_info": {
   "codemirror_mode": {
    "name": "ipython",
    "version": 3
   },
   "file_extension": ".py",
   "mimetype": "text/x-python",
   "name": "python",
   "nbconvert_exporter": "python",
   "pygments_lexer": "ipython3",
   "version": "3.8.3"
  }
 },
 "nbformat": 4,
 "nbformat_minor": 4
}
