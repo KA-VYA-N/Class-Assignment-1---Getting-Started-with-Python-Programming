{
  "nbformat": 4,
  "nbformat_minor": 0,
  "metadata": {
    "colab": {
      "name": "String_Assignment.ipynb",
      "provenance": [],
      "authorship_tag": "ABX9TyP+rUQLX4tFeFGFE8Su0Ukk",
      "include_colab_link": true
    },
    "kernelspec": {
      "name": "python3",
      "display_name": "Python 3"
    }
  },
  "cells": [
    {
      "cell_type": "markdown",
      "metadata": {
        "id": "view-in-github",
        "colab_type": "text"
      },
      "source": [
        "<a href=\"https://colab.research.google.com/github/KA-VYA-N/Class-Assignment-1---Getting-Started-with-Python-Programming/blob/master/String_Assignment.ipynb\" target=\"_parent\"><img src=\"https://colab.research.google.com/assets/colab-badge.svg\" alt=\"Open In Colab\"/></a>"
      ]
    },
    {
      "cell_type": "markdown",
      "metadata": {
        "id": "i3OunbE1mtTd"
      },
      "source": [
        "1)Encapsulate this code in a function named count Letters, and generalize it so that it accepts the string and the\n",
        " \n",
        "letter as arguments. def count Letters(string,letter):"
      ]
    },
    {
      "cell_type": "code",
      "metadata": {
        "id": "YuaUHUV_mo8u"
      },
      "source": [
        "def countLetters (string,letter):\n",
        "  count=0\n",
        "  index=0\n",
        "  while index<len(string):\n",
        "    if letter==string[index]:\n",
        "      count=count+1\n",
        "      index=index+1\n",
        "  return count"
      ],
      "execution_count": 1,
      "outputs": []
    },
    {
      "cell_type": "code",
      "metadata": {
        "id": "f9TD4NuznBlt",
        "outputId": "21e7d99c-b792-467f-aef4-08132da75d06",
        "colab": {
          "base_uri": "https://localhost:8080/",
          "height": 34
        }
      },
      "source": [
        " \n",
        "countLetters (\"Banana\",\"a\")"
      ],
      "execution_count": 4,
      "outputs": [
        {
          "output_type": "execute_result",
          "data": {
            "text/plain": [
              "3"
            ]
          },
          "metadata": {
            "tags": []
          },
          "execution_count": 4
        }
      ]
    },
    {
      "cell_type": "code",
      "metadata": {
        "id": "rUGkzMhEnNH3",
        "outputId": "21421233-c128-4bc8-9043-4dcd8e8249b2",
        "colab": {
          "base_uri": "https://localhost:8080/",
          "height": 34
        }
      },
      "source": [
        " countLetters (\"Notebook\",\"o\")"
      ],
      "execution_count": 5,
      "outputs": [
        {
          "output_type": "execute_result",
          "data": {
            "text/plain": [
              "3"
            ]
          },
          "metadata": {
            "tags": []
          },
          "execution_count": 5
        }
      ]
    },
    {
      "cell_type": "code",
      "metadata": {
        "id": "-VXLyQIqnSo-",
        "outputId": "91c6253b-98c0-44b2-a307-09991d75a06c",
        "colab": {
          "base_uri": "https://localhost:8080/",
          "height": 34
        }
      },
      "source": [
        " countLetters (\"College\",\"l\")"
      ],
      "execution_count": 6,
      "outputs": [
        {
          "output_type": "execute_result",
          "data": {
            "text/plain": [
              "2"
            ]
          },
          "metadata": {
            "tags": []
          },
          "execution_count": 6
        }
      ]
    },
    {
      "cell_type": "markdown",
      "metadata": {
        "id": "WU2BOKlInZev"
      },
      "source": [
        " 2) Rewrite this function so that instead of traversing the string, it uses the three-parameter version of find from\n",
        " \n",
        "the previous. def find(str, ch,index):"
      ]
    },
    {
      "cell_type": "code",
      "metadata": {
        "id": "tpZL50NoneVs"
      },
      "source": [
        "def find(str,ch,index):\n",
        "  while index < len(str):\n",
        "    if str[index] == ch:\n",
        "      return index\n",
        "    index = index + 1\n",
        "  return -1"
      ],
      "execution_count": 7,
      "outputs": []
    },
    {
      "cell_type": "code",
      "metadata": {
        "id": "WmTgNt4BnzmF",
        "outputId": "654b558e-e3fe-490d-b518-8ed68001592c",
        "colab": {
          "base_uri": "https://localhost:8080/",
          "height": 34
        }
      },
      "source": [
        "find(\"banana\",\"a\",2)"
      ],
      "execution_count": 13,
      "outputs": [
        {
          "output_type": "execute_result",
          "data": {
            "text/plain": [
              "3"
            ]
          },
          "metadata": {
            "tags": []
          },
          "execution_count": 13
        }
      ]
    },
    {
      "cell_type": "code",
      "metadata": {
        "id": "baKKFxh1o-8k",
        "outputId": "53f4d609-a326-4042-d8fc-783609b5e470",
        "colab": {
          "base_uri": "https://localhost:8080/",
          "height": 34
        }
      },
      "source": [
        "find(\"pineapple\",\"p\",3)"
      ],
      "execution_count": 11,
      "outputs": [
        {
          "output_type": "execute_result",
          "data": {
            "text/plain": [
              "5"
            ]
          },
          "metadata": {
            "tags": []
          },
          "execution_count": 11
        }
      ]
    },
    {
      "cell_type": "code",
      "metadata": {
        "id": "6gE0aBJgpn8I",
        "outputId": "8c369fa1-87ee-4745-d999-5869948114b9",
        "colab": {
          "base_uri": "https://localhost:8080/",
          "height": 34
        }
      },
      "source": [
        " find(\"programme\",\"m\",1)"
      ],
      "execution_count": 12,
      "outputs": [
        {
          "output_type": "execute_result",
          "data": {
            "text/plain": [
              "6"
            ]
          },
          "metadata": {
            "tags": []
          },
          "execution_count": 12
        }
      ]
    }
  ]
}